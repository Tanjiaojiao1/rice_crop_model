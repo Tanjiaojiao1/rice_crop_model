{
 "cells": [
  {
   "cell_type": "code",
   "execution_count": null,
   "id": "7f13c3ca-5cdf-4785-a788-2bb068fc784a",
   "metadata": {},
   "outputs": [],
   "source": [
    "import pandas as pd\n",
    "import glob\n",
    "import numpy\n",
    "import math\n",
    "from math import pi\n",
    "import calendar\n",
    "from pylab import *\n",
    "from collections import defaultdict"
   ]
  },
  {
   "cell_type": "code",
   "execution_count": null,
   "id": "eae12acd-de5c-4f14-badc-2292b4ff9c6e",
   "metadata": {},
   "outputs": [],
   "source": [
    "def date_period(time1,time2):\n",
    "    a1 = time1\n",
    "    a2 = time2\n",
    "    b1 = a1.split('-')\n",
    "    b2 = a2.split('-')\n",
    "    c1=datetime.date(int(b1[0]), int(b1[1]), int(b1[2]))   #开始的日期de\n",
    "    c2=datetime.date(int(b2[0]), int(b2[1]), int(b2[2]))  #  结束的日期\n",
    "    result=(c2-c1).days\n",
    "    return result"
   ]
  },
  {
   "cell_type": "code",
   "execution_count": null,
   "id": "417a864d-390c-48ae-b659-b475953a8b10",
   "metadata": {},
   "outputs": [],
   "source": [
    "def Wang_engle(T,Tbase,Topt,Tcei):\n",
    "    # '''\n",
    "    # Wang and Engle 1998, Agircultual systems.\n",
    "    # beta function: the effect of temperature on development rate\n",
    "    # '''\n",
    "    if T<=Tbase or T>=42:\n",
    "        return 0\n",
    "    else:\n",
    "        alpha=math.log(2, )/(math.log((Tcei-Tbase)/(Topt-Tbase)))\n",
    "        dr=(2*((T-Tbase)**alpha)*(Topt-Tbase)**alpha-(T-Tbase)**(2*alpha))/((Topt-Tbase)**(2*alpha))\n",
    "        return dr*(T-Tbase)"
   ]
  },
  {
   "cell_type": "code",
   "execution_count": null,
   "id": "35d57aff-f1d6-4a46-9dba-6de7e8553eb1",
   "metadata": {},
   "outputs": [],
   "source": [
    "def photo_period_based_on_yin(mu,zeta,ep,dl):\n",
    "    # '''\n",
    "    # Yin 1997 beta function\n",
    "    # the effect of photoperiod on development rate\n",
    "    # '''\n",
    "    return math.exp(mu)*(dl)**zeta*(24-dl)**ep"
   ]
  },
  {
   "cell_type": "code",
   "execution_count": null,
   "id": "85c06aee-7f1e-4300-9629-74a6629b4f7a",
   "metadata": {},
   "outputs": [],
   "source": [
    "data=pd.read_csv('D:/workspace/rice_crop_model/data/Rice_phen_ob.csv',encoding='gbk')"
   ]
  },
  {
   "cell_type": "markdown",
   "id": "9ea96502-cfc6-47ea-9842-df70cf7deb2f",
   "metadata": {},
   "source": [
    "<!-- -----------------Photoperiod sensitive phase-----------------\n",
    "calculate daily thermal, daily photoeffect, daily photothermal, \n",
    "cumumlate thermal, cumumlate photothermal form reviving to heading -->"
   ]
  },
  {
   "cell_type": "code",
   "execution_count": null,
   "id": "65800efc-5b1d-498c-b175-76719c421e4b",
   "metadata": {},
   "outputs": [],
   "source": [
    "f2=defaultdict(list)\n",
    "f1=defaultdict(list)\n",
    "for i in range(data.shape[0]):\n",
    "    stardate=pd.Timestamp(data[\"reviving data\"][i]).date().strftime('%Y-%m-%d')\n",
    "    enddate=pd.Timestamp(data['heading data'][i]).date().strftime('%Y-%m-%d')\n",
    "    n=date_period(stardate,enddate)\n",
    "    lon=data[\"lon\"][i]\n",
    "    lat=data[\"lat\"][i]\n",
    "    ID=data[\"station ID\"][i]\n",
    "    year=int(stardate[:4])\n",
    "    \n",
    "    metedata=pd.read_table(\"D:/workspace/rice_crop_model/data/Meteo(48 sta)/\"+str(ID)+\".txt\",encoding='gbk',sep=' * ',engine='python')\n",
    "    mete=metedata.drop(index=0,axis=1) #去掉第一行\n",
    "    mete['ymd']=mete['YY']+'-'+mete['mm']+'-'+mete['dd']\n",
    "    mete.index=pd.DatetimeIndex(mete['ymd'])\n",
    "    \n",
    "    cumumlate_photothermal=0\n",
    "    cumumlate_thermal=0\n",
    "    \n",
    "    for j in range (n+1):\n",
    "        stardate1=(pd.Timestamp(data[\"reviving data\"][i])+pd.Timedelta(days=j)).date().strftime('%Y-%m-%d') \n",
    "        metedf=mete[mete.index==stardate1]\n",
    "        Temp=float(metedf['TemAver'])\n",
    "        month=int(stardate1[-5:-3])\n",
    "        day=int(stardate1[-2:])\n",
    "        parameter = Sun()\n",
    "        daylength=parameter.dayCivilTwilightLength(year, month, day, lon, lat)\n",
    "        photoeffect= photo_period_based_on_yin(-15.46,2.06,2.48,daylength)\n",
    "        daily_thermal=Wang_engle(Temp,8,30,42)\n",
    "        daily_photothermal=daily_thermal*photoeffect\n",
    "        cumumlate_thermal+=daily_thermal\n",
    "        cumumlate_photothermal+=daily_photothermal\n",
    "        f1[\"Station_ID\"].append(ID)\n",
    "        f1[\"year\"].append(year)\n",
    "        f1[\"data_PSP\"].append(stardate1)\n",
    "        f1[\"photoeffect\"].append(photoeffect)\n",
    "        f1[\"daily_thermal_PSP\"].append(daily_thermal)\n",
    "        f1[\"daily_photothermal\"].append(daily_photothermal)\n",
    "          \n",
    "    \n",
    "    f2[\"Station_ID\"].append(ID)\n",
    "    f2[\"year\"].append(year)\n",
    "    f2[\"cumumlate_thermal_PSP\"].append(cumumlate_thermal)\n",
    "    f2[\"cumumlate_photothermal\"].append(cumumlate_photothermal)\n",
    "F1=pd.DataFrame(f1)\n",
    "F1.to_csv(\"D:/workspace/rice_crop_model/data/daily_thermal_PSP.csv\",index=False,encoding='gbk')             \n",
    "F2=pd.DataFrame(f2)\n",
    "F2.to_csv(\"D:/workspace/rice_crop_model/data/cumumlate_thermal_PSP.csv\",index=False,encoding='gbk')"
   ]
  },
  {
   "cell_type": "markdown",
   "id": "d80624f5-2ea7-40a9-990e-6e19efff2147",
   "metadata": {},
   "source": [
    "<!-- ----------Reproductive growth phase-----------------\n",
    "calculate daily thermal, cumumlate thermal form heading to maturity -->"
   ]
  },
  {
   "cell_type": "code",
   "execution_count": null,
   "id": "8c1c8974-dd03-4d92-81dd-d95c8e8910e5",
   "metadata": {},
   "outputs": [],
   "source": [
    "f2=defaultdict(list)\n",
    "f1=defaultdict(list)\n",
    "for i in range(data.shape[0]):\n",
    "    stardate=pd.Timestamp(data[\"heading data\"][i]).date().strftime('%Y-%m-%d')\n",
    "    enddate=pd.Timestamp(data['maturity data'][i]).date().strftime('%Y-%m-%d')\n",
    "    n=date_period(stardate,enddate)\n",
    "    lon=data[\"lon\"][i]\n",
    "    lat=data[\"lat\"][i]\n",
    "    ID=data[\"station ID\"][i]\n",
    "    year=int(stardate[:4])\n",
    "    \n",
    "    metedata=pd.read_table(\"D:/workspace/rice_crop_model/data/Meteo(48 sta)/\"+str(ID)+\".txt\",encoding='gbk',sep=' * ',engine='python')\n",
    "    mete=metedata.drop(index=0,axis=1) #去掉第一行\n",
    "    mete['ymd']=mete['YY']+'-'+mete['mm']+'-'+mete['dd']\n",
    "    mete.index=pd.DatetimeIndex(mete['ymd'])\n",
    "    \n",
    "    cumumlate_thermal=0\n",
    "    \n",
    "    for j in range (n+1):\n",
    "        stardate1=(pd.Timestamp(data[\"heading data\"][i])+pd.Timedelta(days=j+1)).date().strftime('%Y-%m-%d') \n",
    "        metedf=mete[mete.index==stardate1]\n",
    "        Temp=float(metedf['TemAver'])\n",
    "        month=int(stardate1[-5:-3])\n",
    "        day=int(stardate1[-2:])\n",
    "        parameter = Sun()\n",
    "        daylength=parameter.dayCivilTwilightLength(year, month, day, lon, lat)\n",
    "        daily_thermal=Wang_engle(Temp,8,30,42)\n",
    "        cumumlate_thermal+=daily_thermal\n",
    "        f1[\"Station_ID\"].append(ID)\n",
    "        f1[\"year\"].append(year)\n",
    "        f1[\"data_RGP\"].append(stardate1)\n",
    "        f1[\"daily_thermal_RGP\"].append(daily_thermal)\n",
    "          \n",
    "    f2[\"Station_ID\"].append(ID)\n",
    "    f2[\"year\"].append(year)\n",
    "    f2[\"cumumlate_thermal_RGP\"].append(cumumlate_thermal)\n",
    "\n",
    "F1=pd.DataFrame(f1)\n",
    "F1.to_csv(\"D:/workspace/rice_crop_model/data/daily_thermal_RGP.csv\",index=False,encoding='gbk')             \n",
    "F2=pd.DataFrame(f2)\n",
    "F2.to_csv(\"D:/workspace/rice_crop_model/data/cumumlate_thermal_RGP.csv\",index=False,encoding='gbk')\n"
   ]
  },
  {
   "cell_type": "code",
   "execution_count": null,
   "id": "a00cbc19-0f36-4e9c-991c-76f7b4535885",
   "metadata": {},
   "outputs": [],
   "source": []
  }
 ],
 "metadata": {
  "kernelspec": {
   "display_name": "Python 3 (ipykernel)",
   "language": "python",
   "name": "python3"
  },
  "language_info": {
   "codemirror_mode": {
    "name": "ipython",
    "version": 3
   },
   "file_extension": ".py",
   "mimetype": "text/x-python",
   "name": "python",
   "nbconvert_exporter": "python",
   "pygments_lexer": "ipython3",
   "version": "3.9.12"
  }
 },
 "nbformat": 4,
 "nbformat_minor": 5
}
